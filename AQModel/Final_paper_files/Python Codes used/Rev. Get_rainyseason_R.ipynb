{
 "cells": [
  {
   "cell_type": "code",
   "execution_count": 53,
   "metadata": {},
   "outputs": [],
   "source": [
    "#!/usr/bin/env python\n",
    "# -*- coding: utf-8 -*-\n",
    "# __author__ = 'Prakhar MISRA'\n",
    "# Created 08/14/2019\n",
    "# Last edit 08/14/2019\n",
    "\n",
    "#\n",
    "\n",
    "# Purpose: to get non interpolated values of R for the rainy seasons (months 6-7)\n",
    "\n",
    "import pandas as pd\n",
    "import numpy as np\n",
    "import os\n",
    "import glob \n",
    "\n",
    "currdir = os.getcwd()"
   ]
  },
  {
   "cell_type": "code",
   "execution_count": 66,
   "metadata": {},
   "outputs": [],
   "source": [
    "\n",
    "# original directory where R for each city is present\n",
    "R_city_directory = os.path.join(currdir, \"lib\", \"observedAQImasumodII\")\n",
    "\n",
    "# file used in stan simulation\n",
    "AYpath = os.path.join(currdir, \"my_bayesian\", \"HBM_city_tier_20180116\", \"report20180212_IDW2_20190814\")\n",
    "AYfile = os.path.join(AYpath, \"allAY20180212IDW2setclean.csv\")\n"
   ]
  },
  {
   "cell_type": "code",
   "execution_count": 55,
   "metadata": {},
   "outputs": [
    {
     "name": "stderr",
     "output_type": "stream",
     "text": [
      "C:\\Users\\Prakhar\\Anaconda3\\lib\\site-packages\\ipykernel_launcher.py:17: SettingWithCopyWarning: \n",
      "A value is trying to be set on a copy of a slice from a DataFrame.\n",
      "Try using .loc[row_indexer,col_indexer] = value instead\n",
      "\n",
      "See the caveats in the documentation: http://pandas.pydata.org/pandas-docs/stable/indexing.html#indexing-view-versus-copy\n"
     ]
    }
   ],
   "source": [
    "# first get the R in months 6,7 fromt he original file\n",
    "\n",
    "\n",
    "listdf =[]\n",
    "\n",
    "# open each csv and get the R for only selected months\n",
    "for file in glob.glob(os.path.join(R_city_directory, '*' + \".csv\")):\n",
    "    \n",
    "    #file = glob.glob(os.path.join(R_city_directory, '*' + \".csv\"))[0]\n",
    "    pd_R = pd.read_csv(file, header = 0)\n",
    "    pd_R[\"date\"] = pd.to_datetime(pd_R[\"date\"], format = \"%Y%m\")\n",
    "    pd_R = pd_R[(pd_R[\"date\"].dt.year <= 2015)]\n",
    "    pd_filter = pd_R[(pd_R[\"date\"].dt.month == 6) | (pd_R[\"date\"].dt.month == 7)]\n",
    "    #pd_filter = pd_R[(pd_R[\"date\"].dt.month <= 12)]\n",
    "    \n",
    "    # applying humidity correction\n",
    "    pd_filter[\"R\"] = pd_filter[\"R\"]*11/14\n",
    "    \n",
    "    listdf.append(pd_filter[[\"city\", \"R\", \"date\"]])\n",
    "    \n",
    "df_allcityrainyR = pd.concat(listdf, axis = 0)\n",
    "\n",
    "df_allcityrainyR.to_csv(os.path.join(R_city_directory, \"rainy_month\", \"df_month_6_7_R.csv\"))"
   ]
  },
  {
   "cell_type": "code",
   "execution_count": 56,
   "metadata": {},
   "outputs": [],
   "source": [
    "# now replace the R values in the getAY (i.e. thje file inputted to the stan) for the months 6, 7\n",
    "# create first multi index\n",
    "\n",
    "\n",
    "# replace the R corectly for each city\n",
    "dfAY = pd.read_csv(AYfile, header=0)\n",
    "dfAY[\"date\"] = pd.to_datetime(dfAY[\"date\"], format = \"%m/%d/%Y\")\n",
    "# set the multi index\n",
    "dfAY.index = pd.MultiIndex.from_arrays(dfAY[['citychk_loc', 'date']].values.T, names=['idx1', 'idx2'])\n",
    "\n",
    "\n",
    "# also open R for the months 6, 7\n",
    "df_rainR = pd.read_csv(os.path.join(R_city_directory, \"rainy_month\", \"df_month_6_7_R.csv\"), header=0)\n",
    "df_rainR[\"date\"] = pd.to_datetime(df_rainR[\"date\"], format = \"%Y-%m-%d\")\n",
    "df_rainR[\"Rrain\"] = df_rainR[\"R\"]\n",
    "# set the multi index\n",
    "df_rainR.index = pd.MultiIndex.from_arrays(df_rainR[['city', 'date']].values.T, names=['idxR1', 'idxR2'])\n",
    "df_rainR.drop(columns = [\"city\",  \"date\"], inplace = True)\n",
    "\n",
    "\n"
   ]
  },
  {
   "cell_type": "code",
   "execution_count": 57,
   "metadata": {},
   "outputs": [],
   "source": [
    "# and merge on the basis of multiindex\n",
    "\n",
    "# need to give name to index level\n",
    "dfAY.index.levels[0].name = \"idx1\"\n",
    "dfAY.index.levels[1].name = \"idx2\"\n",
    "df_rainR.index.levels[0].name = \"idx1\"\n",
    "df_rainR.index.levels[1].name = \"idx2\"\n",
    "\n",
    "# now merge\n",
    "df_merge = pd.merge(dfAY, df_rainR, how='outer', on=None, left_on=None, right_on=None,\n",
    "         left_index=True, right_index=True, sort=True,\n",
    "         suffixes=('_x', '_y'), copy=True, indicator=False,\n",
    "         validate=None)\n",
    "\n",
    "df_merge[\"R\"] = df_merge[[\"R_x\", \"R_y\"]].min(axis =1)\n",
    "\n",
    "# save this and clean this\n",
    "df_merge.sort_values(by = [\"TierID\", \"cityID2\", \"citychk_loc\", \"date\"]).to_csv(os.path.join(AYpath, \"allAY20180212IDW2setclean_rainyR.csv\"))"
   ]
  },
  {
   "cell_type": "code",
   "execution_count": 74,
   "metadata": {},
   "outputs": [],
   "source": [
    "# only keep the 2001 and 2011 for training\n",
    "df_AYrainR = pd.read_csv(os.path.join(AYpath, \"allAY20180212IDW2setclean_rainyR.csv\"), header=0)\n",
    "df_AYrainR[\"date\"] = pd.to_datetime(df_AYrainR[\"date\"], format = \"%m/%d/%Y\")\n",
    "pd_filter = df_AYrainR[(df_AYrainR[\"date\"].dt.year == 2001) | (df_AYrainR[\"date\"].dt.year == 2011)]\n",
    "\n",
    "# sacve\n",
    "df_AYrainR.sort_values(by = [\"TierID\", \"cityID2\", \"citychk_loc\", \"date\"]).to_csv(os.path.join(AYpath, \"allAY20180212IDW2setclean_rainyR20012011.csv\"))"
   ]
  }
 ],
 "metadata": {
  "kernelspec": {
   "display_name": "Python 3",
   "language": "python",
   "name": "python3"
  },
  "language_info": {
   "codemirror_mode": {
    "name": "ipython",
    "version": 3
   },
   "file_extension": ".py",
   "mimetype": "text/x-python",
   "name": "python",
   "nbconvert_exporter": "python",
   "pygments_lexer": "ipython3",
   "version": "3.7.1"
  }
 },
 "nbformat": 4,
 "nbformat_minor": 2
}
