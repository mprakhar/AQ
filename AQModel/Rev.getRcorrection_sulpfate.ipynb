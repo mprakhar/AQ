{
 "cells": [
  {
   "cell_type": "code",
   "execution_count": 1,
   "metadata": {},
   "outputs": [],
   "source": [
    "#!/usr/bin/env python\n",
    "# -*- coding: utf-8 -*-\n",
    "# Name - Rev.get_R_est\n",
    "#__author__ = 'Prakhar MISRA'\n",
    "# Created 8/18/2019\n",
    "# Last edit 8/18/2010\n",
    "\n",
    "# code to answer reviwer commment regarding the inability of the model toaccount for secondary PM2.5 \n",
    "# hence following Upadhaye and dey 2018, we will also include meteorology \n",
    "\n",
    "# Function to multiply the cities with corresponding beta to find the Rest\n",
    "# also known as get beta\n",
    "\n",
    "\n",
    "# Important resource\n",
    "\n",
    "# following course by PSU teaches statistics with derived examples\n",
    "# Confidence interval -  https://newonlinecourses.science.psu.edu/stat414/node/297/\n",
    "# prediction interval - https://newonlinecourses.science.psu.edu/stat414/node/298/\n",
    "# CI for Multi linear regression https://newonlinecourses.science.psu.edu/stat501/lesson/7/7.1\n",
    "\n",
    "# for bayesian \n",
    "# More advanced , posterioir predictive distribution for Bayesian \n",
    "# https://baezortega.github.io/2018/08/06/robust_regression/\n",
    "\n",
    "import pandas as pd\n",
    "import os\n",
    "import scipy as sp\n",
    "import scipy.stats as stats\n",
    "import matplotlib.pyplot as plt\n",
    "import numpy as np\n",
    "from datetime import timedelta, date\n",
    "import matplotlib.dates as mdates\n",
    "import time\n",
    "import netCDF4\n",
    "import datetime as dt\n",
    "from netCDF4 import MFDataset\n",
    "from netCDF4 import num2date\n",
    "import datetime as dt  # Python standard library datetime  module\n",
    "from glob import glob\n",
    "\n",
    "currdir = os.getcwd()\n",
    "import seaborn as sns\n",
    "sns.set_style(\"whitegrid\")\n",
    "\n",
    "\n",
    "\n",
    "%matplotlib notebook\n",
    "\n",
    "gpath = r\"D:\\Research\\Codes_W\\GoogleTrends\\\\\"\n",
    "currdir = os.getcwd()\n",
    "\n"
   ]
  },
  {
   "cell_type": "code",
   "execution_count": 9,
   "metadata": {},
   "outputs": [],
   "source": [
    "# get path of meteor\n",
    "meteorpath = os.path.join(currdir, \"my_bayesian\",  \"HBM_city_tier_20180116\",\"report20180212_IDW2_20190814\", \"meteorology_model\", \"s_r_fromREASmodel\", 'allAY20180212IDW2setclean_meteor_sr.csv')"
   ]
  },
  {
   "cell_type": "code",
   "execution_count": 10,
   "metadata": {},
   "outputs": [],
   "source": [
    "def get_betaRH(RH):\n",
    "    # beta refers to mass extinction efficiency to correct AOD by RH\n",
    "    # based on Tropospheric AOT from the GOCART model and comaparisons with satelluite and sun photometer measurements (chin, ginoux, kinne 2002)\n",
    "    #returning beta values for hydrophiolic OC only\n",
    "    # y = 0.0004x2 - 0.0207x + 1.0606\n",
    "\n",
    "    RH = int(RH)\n",
    "    if RH < 20:\n",
    "        beta = 1\n",
    "\n",
    "    if (RH >=20) & (RH <40):\n",
    "        beta = 1.25\n",
    "\n",
    "    if (RH >=40) & (RH <60):\n",
    "        beta = 1.33\n",
    "\n",
    "    if (RH >=60) & (RH <70):\n",
    "        beta = 1.6\n",
    "    \n",
    "    if (RH >=70) & (RH <80):\n",
    "        beta = 1.7\n",
    "        \n",
    "\n",
    "    if RH>=80:\n",
    "        beta = 0.0004*RH**2 - 0.0207*RH + 1.0606\n",
    "\n",
    "    return beta"
   ]
  },
  {
   "cell_type": "code",
   "execution_count": 20,
   "metadata": {},
   "outputs": [],
   "source": [
    "# open the metoer path and correct the R by sulfate function\n",
    "df_R = pd.read_csv(meteorpath, header = 0)\n",
    "\n",
    "# first undo the previous beta correction\n",
    "df_R[\"R_undo\"] =  df_R[\"R\"]*df_R[\"beta\"]\n",
    "\n",
    "\n",
    "df_R['beta_sulfate'] = df_R['rhum']\n",
    "\n",
    "#calling coefficient factor\n",
    "df_R['beta_sulfate'] = df_R['beta_sulfate'].apply(lambda x: get_betaRH(x))\n",
    "\n",
    "# simple correction\n",
    "df_R['R'] = df_R['R_undo']/(df_R['beta_sulfate'])\n",
    "\n",
    "\n"
   ]
  },
  {
   "cell_type": "code",
   "execution_count": 21,
   "metadata": {},
   "outputs": [],
   "source": [
    "# save the new R corrected by sulfate aerosol\n",
    "df_R.to_csv(os.path.join(currdir, \"my_bayesian\",  \"HBM_city_tier_20180116\",\"report20180212_IDW2_20190814\", \"meteorology_model\", \"s_r_fromREASmodel\", \"sulphate_aerosol_correction\", 'allAY20180212IDW2setclean_meteor_sr.csv'))"
   ]
  },
  {
   "cell_type": "code",
   "execution_count": 25,
   "metadata": {},
   "outputs": [],
   "source": [
    "df_20012011 = df_R[(df_R.year == 2001) | (df_R.year == 2011)]\n",
    "df_20012011.to_csv(os.path.join(currdir, \"my_bayesian\",  \"HBM_city_tier_20180116\",\"report20180212_IDW2_20190814\", \"meteorology_model\", \"s_r_fromREASmodel\", \"sulphate_aerosol_correction\", 'allAY20180212IDW2setclean20012011.csv'))"
   ]
  }
 ],
 "metadata": {
  "kernelspec": {
   "display_name": "Python 3",
   "language": "python",
   "name": "python3"
  },
  "language_info": {
   "codemirror_mode": {
    "name": "ipython",
    "version": 3
   },
   "file_extension": ".py",
   "mimetype": "text/x-python",
   "name": "python",
   "nbconvert_exporter": "python",
   "pygments_lexer": "ipython3",
   "version": "3.7.1"
  }
 },
 "nbformat": 4,
 "nbformat_minor": 2
}
